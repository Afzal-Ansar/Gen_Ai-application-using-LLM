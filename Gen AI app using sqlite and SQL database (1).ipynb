{
 "cells": [
  {
   "cell_type": "code",
   "execution_count": 24,
   "id": "d26a356e-9586-4555-baf6-ba3d32731e7f",
   "metadata": {},
   "outputs": [],
   "source": [
    "import streamlit as st\n",
    "from pathlib import Path\n",
    "from langchain.agents import create_sql_agent\n",
    "from langchain.sql_database import SQLDatabase\n",
    "from langchain.agents.agent_types import AgentType\n",
    "from langchain.callbacks import StreamlitCallbackHandler\n",
    "from langchain.agents.agent_toolkits import SQLDatabaseToolkit\n",
    "from sqlalchemy import create_engine\n",
    "import sqlite3\n",
    "from langchain_groq import ChatGroq\n",
    "import os\n",
    "from dotenv import load_dotenv\n",
    "load_dotenv()\n",
    "## load the GROQ API Key\n",
    "os.environ[\"groq_API\"]=os.getenv(\"groq_API\")\n",
    "groq_api_key=os.getenv(\"groq_API\")"
   ]
  },
  {
   "cell_type": "code",
   "execution_count": 25,
   "id": "bb4f0d18-32ea-4021-8792-6d1426b72f3b",
   "metadata": {},
   "outputs": [
    {
     "name": "stderr",
     "output_type": "stream",
     "text": [
      "2025-01-29 18:13:15.312 Thread 'MainThread': missing ScriptRunContext! This warning can be ignored when running in bare mode.\n",
      "2025-01-29 18:13:15.314 Thread 'MainThread': missing ScriptRunContext! This warning can be ignored when running in bare mode.\n",
      "2025-01-29 18:13:15.316 Thread 'MainThread': missing ScriptRunContext! This warning can be ignored when running in bare mode.\n",
      "2025-01-29 18:13:15.317 Thread 'MainThread': missing ScriptRunContext! This warning can be ignored when running in bare mode.\n",
      "2025-01-29 18:13:15.318 Thread 'MainThread': missing ScriptRunContext! This warning can be ignored when running in bare mode.\n",
      "2025-01-29 18:13:15.319 Thread 'MainThread': missing ScriptRunContext! This warning can be ignored when running in bare mode.\n",
      "2025-01-29 18:13:15.320 Thread 'MainThread': missing ScriptRunContext! This warning can be ignored when running in bare mode.\n",
      "2025-01-29 18:13:15.321 Thread 'MainThread': missing ScriptRunContext! This warning can be ignored when running in bare mode.\n",
      "2025-01-29 18:13:15.322 Thread 'MainThread': missing ScriptRunContext! This warning can be ignored when running in bare mode.\n",
      "2025-01-29 18:13:15.323 Thread 'MainThread': missing ScriptRunContext! This warning can be ignored when running in bare mode.\n",
      "2025-01-29 18:13:15.325 Thread 'MainThread': missing ScriptRunContext! This warning can be ignored when running in bare mode.\n",
      "2025-01-29 18:13:15.325 Thread 'MainThread': missing ScriptRunContext! This warning can be ignored when running in bare mode.\n"
     ]
    }
   ],
   "source": [
    "st.set_page_config(page_title=\"LangChain: Chat with SQL DB\", page_icon=r\"C:\\Users\\99ash\\Downloads\\mysql-create-database-workbench.png\")\n",
    "st.image(r\"C:\\Users\\99ash\\Downloads\\mysql-create-database-workbench.png\")\n",
    "st.title(\" LangChain: Chat with SQL DB\")\n",
    "\n",
    "LOCALDB=\"USE_LOCALDB\"\n",
    "MYSQL=\"USE_MYSQL\"\n",
    "\n",
    "radio_opt=[\"Use SQLLite 3 Database- Student.db\",\"Connect to you MySQL Database\"]\n",
    "\n",
    "selected_opt=st.sidebar.radio(label=\"Choose the DB which you want to chat\",options=radio_opt)"
   ]
  },
  {
   "cell_type": "code",
   "execution_count": 26,
   "id": "a6deb66f-9030-4598-b262-78f22c02de72",
   "metadata": {},
   "outputs": [],
   "source": [
    "if radio_opt.index(selected_opt)==1:\n",
    "    db_uri=MYSQL\n",
    "    mysql_host=st.sidebar.text_input(\"Provide MySQL Host\")\n",
    "    mysql_user=st.sidebar.text_input(\"MYSQL User\")\n",
    "    mysql_password=st.sidebar.text_input(\"MYSQL password\",type=\"password\")\n",
    "    mysql_db=st.sidebar.text_input(\"MySQL database\")\n",
    "else:\n",
    "    db_uri=LOCALDB"
   ]
  },
  {
   "cell_type": "code",
   "execution_count": 27,
   "id": "d058bab6-0946-42ad-989f-bd1c6909fe89",
   "metadata": {},
   "outputs": [
    {
     "name": "stderr",
     "output_type": "stream",
     "text": [
      "2025-01-29 18:13:15.359 Thread 'MainThread': missing ScriptRunContext! This warning can be ignored when running in bare mode.\n",
      "2025-01-29 18:13:15.361 Thread 'MainThread': missing ScriptRunContext! This warning can be ignored when running in bare mode.\n",
      "2025-01-29 18:13:15.362 Thread 'MainThread': missing ScriptRunContext! This warning can be ignored when running in bare mode.\n",
      "2025-01-29 18:13:15.363 Thread 'MainThread': missing ScriptRunContext! This warning can be ignored when running in bare mode.\n",
      "2025-01-29 18:13:15.365 Thread 'MainThread': missing ScriptRunContext! This warning can be ignored when running in bare mode.\n",
      "2025-01-29 18:13:15.366 Thread 'MainThread': missing ScriptRunContext! This warning can be ignored when running in bare mode.\n",
      "2025-01-29 18:13:15.367 Thread 'MainThread': missing ScriptRunContext! This warning can be ignored when running in bare mode.\n",
      "2025-01-29 18:13:15.367 Thread 'MainThread': missing ScriptRunContext! This warning can be ignored when running in bare mode.\n"
     ]
    }
   ],
   "source": [
    "api_key=st.sidebar.text_input(label=\"GRoq API Key\",type=\"password\")\n",
    "if not db_uri:\n",
    "    st.info(\"Please enter the database information and uri\")\n",
    "\n",
    "if not api_key:\n",
    "    st.info(\"Please add the groq api key\")\n",
    "## LLM model\n",
    "llm=ChatGroq(groq_api_key=groq_api_key,model_name=\"Llama3-70b-8192\",streaming=True)"
   ]
  },
  {
   "cell_type": "code",
   "execution_count": 28,
   "id": "5dea1087-35f1-47da-b049-46e335529383",
   "metadata": {},
   "outputs": [],
   "source": [
    "@st.cache_resource(ttl=\"2h\")\n",
    "def configure_db(db_uri,mysql_host=None,mysql_user=None,mysql_password=None,mysql_db=None):\n",
    "    if db_uri==LOCALDB:\n",
    "        dbfilepath=r\"c:\\Users\\99ash\\student.db\"\n",
    "        creator = lambda: sqlite3.connect(f\"file:{dbfilepath}?mode=ro\", uri=True)\n",
    "        return SQLDatabase(create_engine(\"sqlite:///\", creator=creator))\n",
    "    elif db_uri==MYSQL:\n",
    "        if not (mysql_host and mysql_user and mysql_password and mysql_db):\n",
    "            st.error(\"Please provide all MySQL connection details.\")\n",
    "            st.stop()\n",
    "        return SQLDatabase(create_engine(f\"mysql+mysqlconnector://{mysql_user}:{mysql_password}@{mysql_host}/{mysql_db}\"))   \n",
    "    \n",
    "if db_uri==MYSQL:\n",
    "    db=configure_db(db_uri,mysql_host,mysql_user,mysql_password,mysql_db)\n",
    "else:\n",
    "    db=configure_db(db_uri)"
   ]
  },
  {
   "cell_type": "code",
   "execution_count": 29,
   "id": "1f4ec456-9556-4c63-a34e-b6a4d61de858",
   "metadata": {},
   "outputs": [],
   "source": [
    "## toolkit\n",
    "toolkit=SQLDatabaseToolkit(db=db,llm=llm)\n",
    "\n",
    "agent=create_sql_agent(\n",
    "    llm=llm,\n",
    "    toolkit=toolkit,\n",
    "    verbose=True,\n",
    "    agent_type=AgentType.ZERO_SHOT_REACT_DESCRIPTION\n",
    ")"
   ]
  },
  {
   "cell_type": "code",
   "execution_count": 30,
   "id": "ec370e1d-005e-4967-b44d-8b3ebf098a45",
   "metadata": {},
   "outputs": [
    {
     "name": "stderr",
     "output_type": "stream",
     "text": [
      "2025-01-29 18:13:15.496 Thread 'MainThread': missing ScriptRunContext! This warning can be ignored when running in bare mode.\n",
      "2025-01-29 18:13:15.496 Thread 'MainThread': missing ScriptRunContext! This warning can be ignored when running in bare mode.\n",
      "2025-01-29 18:13:15.496 Thread 'MainThread': missing ScriptRunContext! This warning can be ignored when running in bare mode.\n",
      "2025-01-29 18:13:15.496 Thread 'MainThread': missing ScriptRunContext! This warning can be ignored when running in bare mode.\n",
      "2025-01-29 18:13:15.510 Thread 'MainThread': missing ScriptRunContext! This warning can be ignored when running in bare mode.\n",
      "2025-01-29 18:13:15.511 Thread 'MainThread': missing ScriptRunContext! This warning can be ignored when running in bare mode.\n",
      "2025-01-29 18:13:15.513 Thread 'MainThread': missing ScriptRunContext! This warning can be ignored when running in bare mode.\n",
      "2025-01-29 18:13:15.514 Thread 'MainThread': missing ScriptRunContext! This warning can be ignored when running in bare mode.\n",
      "2025-01-29 18:13:15.514 Thread 'MainThread': missing ScriptRunContext! This warning can be ignored when running in bare mode.\n",
      "2025-01-29 18:13:15.516 Thread 'MainThread': missing ScriptRunContext! This warning can be ignored when running in bare mode.\n",
      "2025-01-29 18:13:15.516 Thread 'MainThread': missing ScriptRunContext! This warning can be ignored when running in bare mode.\n",
      "2025-01-29 18:13:15.518 Thread 'MainThread': missing ScriptRunContext! This warning can be ignored when running in bare mode.\n",
      "2025-01-29 18:13:15.518 Thread 'MainThread': missing ScriptRunContext! This warning can be ignored when running in bare mode.\n",
      "2025-01-29 18:13:15.518 Thread 'MainThread': missing ScriptRunContext! This warning can be ignored when running in bare mode.\n",
      "2025-01-29 18:13:15.518 Thread 'MainThread': missing ScriptRunContext! This warning can be ignored when running in bare mode.\n",
      "2025-01-29 18:13:15.518 Thread 'MainThread': missing ScriptRunContext! This warning can be ignored when running in bare mode.\n",
      "2025-01-29 18:13:15.518 Thread 'MainThread': missing ScriptRunContext! This warning can be ignored when running in bare mode.\n",
      "2025-01-29 18:13:15.518 Thread 'MainThread': missing ScriptRunContext! This warning can be ignored when running in bare mode.\n"
     ]
    }
   ],
   "source": [
    "if \"messages\" not in st.session_state or st.sidebar.button(\"Clear message history\"):\n",
    "    st.session_state[\"messages\"] = [{\"role\": \"assistant\", \"content\": \"How can I help you?\"}]\n",
    "\n",
    "for msg in st.session_state.messages:\n",
    "    st.chat_message(msg[\"role\"]).write(msg[\"content\"])\n",
    "\n",
    "user_query=st.chat_input(placeholder=\"Ask anything from the database\")\n",
    "\n",
    "if user_query:\n",
    "    st.session_state.messages.append({\"role\": \"user\", \"content\": user_query})\n",
    "    st.chat_message(\"user\").write(user_query)\n",
    "\n",
    "    with st.chat_message(\"assistant\"):\n",
    "        streamlit_callback=StreamlitCallbackHandler(st.container())\n",
    "        response=agent.run(user_query,callbacks=[streamlit_callback])\n",
    "        st.session_state.messages.append({\"role\":\"assistant\",\"content\":response})\n",
    "        st.write(response)"
   ]
  },
  {
   "cell_type": "code",
   "execution_count": null,
   "id": "681e3ad3-ef2b-42cd-96f6-e53e0c94370d",
   "metadata": {},
   "outputs": [],
   "source": []
  }
 ],
 "metadata": {
  "kernelspec": {
   "display_name": "genAI",
   "language": "python",
   "name": "genai"
  },
  "language_info": {
   "codemirror_mode": {
    "name": "ipython",
    "version": 3
   },
   "file_extension": ".py",
   "mimetype": "text/x-python",
   "name": "python",
   "nbconvert_exporter": "python",
   "pygments_lexer": "ipython3",
   "version": "3.10.11"
  }
 },
 "nbformat": 4,
 "nbformat_minor": 5
}
